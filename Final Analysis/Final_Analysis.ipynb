{
 "cells": [
  {
   "cell_type": "markdown",
   "metadata": {},
   "source": [
    "# FINAL DATA ANALYSIS"
   ]
  },
  {
   "cell_type": "markdown",
   "metadata": {},
   "source": [
    "# “Group Sixers” Team"
   ]
  },
  {
   "cell_type": "code",
   "execution_count": null,
   "metadata": {},
   "outputs": [],
   "source": [
    "Adrian Salas\n",
    "Brooke Cooper\n",
    "Marilou Francis\n",
    "Steven Rigby\n",
    "Henry Tran\n",
    "Joseph Verghese"
   ]
  },
  {
   "cell_type": "markdown",
   "metadata": {},
   "source": [
    "# Questions"
   ]
  },
  {
   "cell_type": "code",
   "execution_count": null,
   "metadata": {},
   "outputs": [],
   "source": [
    "    1.Are politics coloring reporting on the pandemic’s true death toll at the state level?\n",
    "    2.How are politics affecting unemployment in the face of pandemic at the state level?\n",
    "    3.How are politics affecting bankruptcies in the face of pandemic at the state level?\n",
    "    4.Is the pandemic differentially impacting on the basis of race and ethnicity for the entire country?\n",
    "    5.Also, how is the pandemic affecting long-term unemployment rates for the entire country?"
   ]
  },
  {
   "cell_type": "markdown",
   "metadata": {},
   "source": [
    "# Why Pursue These Questions?"
   ]
  },
  {
   "cell_type": "code",
   "execution_count": null,
   "metadata": {},
   "outputs": [],
   "source": [
    "Grim failure to manage the pandemic well in the US, thus far\n",
    "Highly polarized political environment, with a major election that took place in the same year the pandemic hit US shores\n",
    "The pandemic is clearly stressing the country economically \n",
    "The pandemic seems to be magnifying the effects of pre-existing disparities on the basis of race and ethnicity (income, access, etc.)"
   ]
  },
  {
   "cell_type": "markdown",
   "metadata": {},
   "source": [
    "# Covid-19 Deaths Reporting Analysis"
   ]
  },
  {
   "cell_type": "code",
   "execution_count": null,
   "metadata": {},
   "outputs": [],
   "source": [
    "We summed the probable true number of Covid-19 deaths by state\n",
    "    Strongly Republican states under-reported \n",
    "    Strong Democratic states by 6% Points\n",
    "    - Avg for 23 Rep Controlled States = 43%\n",
    "    - Avg for 19 Dem Controlled States = 37%\n",
    "    - Avg for 8 Divided Control States = 45%\n",
    "    \n",
    "If our hypothesis is right, strongly Rep should be greater than strongly Dem, and Divided should come inbetween.\n",
    "        NOT what we found, however\n",
    "        \n",
    "Based on the data, we can infer:\n",
    "    1.Strongly Dem vs. Strongly Rep differences don’t come across as so dissimilar as to warrant a charge of rampant systematic underreporting owing to political partisanship.\n",
    "    2.Moreover, Divided States coming in higher than Strongly Rep indicate no correlation at all"
   ]
  },
  {
   "cell_type": "markdown",
   "metadata": {},
   "source": [
    "# Insured Unemployment and Number of New Cases Analysis"
   ]
  },
  {
   "cell_type": "code",
   "execution_count": null,
   "metadata": {},
   "outputs": [],
   "source": [
    "    -Democratic states had higher rates in the earlier months\n",
    "    -Republican states had higher rates in the later months, including a current strong upward trend\n",
    "    -Democratic states experienced higher rates of unemployment\n",
    "    -Republican states experienced lower rates of unemployment\n",
    "    \n",
    "These findings are in line with our expectations, as well as the general partisan political views\n",
    "\n",
    "Based on the data, we can imply:\n",
    "    -Democratic states took a more direct / cautious approach to the fight against covid\n",
    "    -Stronger shut downs and regulations\n",
    "    -Republican states took an approach less disruptive to businesses \n",
    "    "
   ]
  },
  {
   "cell_type": "markdown",
   "metadata": {},
   "source": [
    "# Unemployment: Long Term vs Seasonal "
   ]
  },
  {
   "cell_type": "code",
   "execution_count": null,
   "metadata": {},
   "outputs": [],
   "source": [
    "Seasonal Unemployment trends depict the dramatic increase covered since the start of the pandemic.\n",
    "    -Of all the Ethnic groups, the African American and Hispanics groups have been the most affected.\n",
    "\n",
    "Alarmingly though, Long-Term Unemployment, which covers those unemployed for at least 27 weeks, has accelerated, going up by 8-fold.\n",
    "    -Rising long-term unemployment impacts the broader economy.\n",
    "        \n",
    "        \n",
    "We attempted to establish the correlation between long-term unemployment vs Covid New Cases using monthly data.\n",
    "\n",
    "    Simply plotted, both are on an upward trend.\n",
    "\n",
    "    However, the scatter plot exhibits very wide dispersion, possibly because:\n",
    "        1. Data is monthly (long-term unemployment is available only on a monthly basis)\n",
    "        2. There is no depth to the data as only 10 sets of monthly data is tracked.\n",
    "        "
   ]
  },
  {
   "cell_type": "markdown",
   "metadata": {},
   "source": [
    "# Chapt 7 and 13 Bankruptcy Analysis"
   ]
  },
  {
   "cell_type": "code",
   "execution_count": null,
   "metadata": {},
   "outputs": [],
   "source": [
    "    -Rep states tracked higher, Dem states tracked the middle throughout\n",
    "    -Covid affected them equally on a relative basis\n",
    "    -All clusters experienced decline bankruptcies begin with Covid\n",
    "\n",
    "    -Dem + Div states tracked more closely\n",
    "    -Rep states tracked higher than Dem or Div\n",
    "    \n",
    "Based on the data, we can infer:\n",
    "    -The advent and continued presence of the pandemic seems to have provided a pause in the number of Chapter 13 and 7 bankruptcies.\n",
    "    -Covid stimulus may have staved off urgency\n",
    "    -Courts shut down or slowed, affecting bankruptcy processing\n",
    "    -The disparity of bankruptcies in Rep states vs. the rest may reflect rust belt and rural economics, or financial literacy and related social issues.\n",
    "\n",
    "These findings were not expected.  We thought the pandemic economic disruption might affect blue vs. red states differentially.\n",
    "\n",
    "\n"
   ]
  },
  {
   "cell_type": "markdown",
   "metadata": {},
   "source": [
    "# Conclusions and Impact"
   ]
  },
  {
   "cell_type": "code",
   "execution_count": null,
   "metadata": {},
   "outputs": [],
   "source": [
    "State level political affiliation\n",
    "Correlates to rates of new infection\n",
    "Correlates to unemployment rates\n",
    "Does not correlate to under-reporting Covid-19 deaths\n",
    "Does not correlate to Chapter 7 and 13 bankruptcies\n",
    "Pandemic initially correlated equally by race and ethnicity, but more recently seems to have impacted minorities more disproportionately\n",
    "Pandemic is greatly accelerating long-term unemployment rates\n"
   ]
  },
  {
   "cell_type": "markdown",
   "metadata": {},
   "source": [
    "# Difficulties and Further Considerations"
   ]
  },
  {
   "cell_type": "code",
   "execution_count": null,
   "metadata": {},
   "outputs": [],
   "source": [
    "Multiple factors we were unable to measure for\n",
    "Not enough time to time slice for leading and lagging indicators\n",
    "We would like to have had enough time to perform more variance and standard deviation analysis\n"
   ]
  },
  {
   "cell_type": "code",
   "execution_count": null,
   "metadata": {},
   "outputs": [],
   "source": []
  }
 ],
 "metadata": {
  "kernelspec": {
   "display_name": "Python 3",
   "language": "python",
   "name": "python3"
  },
  "language_info": {
   "codemirror_mode": {
    "name": "ipython",
    "version": 3
   },
   "file_extension": ".py",
   "mimetype": "text/x-python",
   "name": "python",
   "nbconvert_exporter": "python",
   "pygments_lexer": "ipython3",
   "version": "3.8.3"
  }
 },
 "nbformat": 4,
 "nbformat_minor": 4
}
