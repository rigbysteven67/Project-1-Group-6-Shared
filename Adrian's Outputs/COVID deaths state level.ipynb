{
 "cells": [
  {
   "cell_type": "code",
   "execution_count": 22,
   "metadata": {},
   "outputs": [],
   "source": [
    "import pandas as pd\n",
    "import numpy as np"
   ]
  },
  {
   "cell_type": "code",
   "execution_count": 23,
   "metadata": {},
   "outputs": [],
   "source": [
    "covid_deaths_csv = \"Resources/Provisional_COVID-19_Death_Counts_by_Sex__Age__and_State.csv\""
   ]
  },
  {
   "cell_type": "code",
   "execution_count": 24,
   "metadata": {},
   "outputs": [
    {
     "data": {
      "text/html": [
       "<div>\n",
       "<style scoped>\n",
       "    .dataframe tbody tr th:only-of-type {\n",
       "        vertical-align: middle;\n",
       "    }\n",
       "\n",
       "    .dataframe tbody tr th {\n",
       "        vertical-align: top;\n",
       "    }\n",
       "\n",
       "    .dataframe thead th {\n",
       "        text-align: right;\n",
       "    }\n",
       "</style>\n",
       "<table border=\"1\" class=\"dataframe\">\n",
       "  <thead>\n",
       "    <tr style=\"text-align: right;\">\n",
       "      <th></th>\n",
       "      <th>Data as of</th>\n",
       "      <th>Start week</th>\n",
       "      <th>End Week</th>\n",
       "      <th>State</th>\n",
       "      <th>Sex</th>\n",
       "      <th>Age group</th>\n",
       "      <th>COVID-19 Deaths</th>\n",
       "      <th>Total Deaths</th>\n",
       "      <th>Pneumonia Deaths</th>\n",
       "      <th>Pneumonia and COVID-19 Deaths</th>\n",
       "      <th>Influenza Deaths</th>\n",
       "      <th>Pneumonia, Influenza, or COVID-19 Deaths</th>\n",
       "      <th>Footnote</th>\n",
       "    </tr>\n",
       "  </thead>\n",
       "  <tbody>\n",
       "    <tr>\n",
       "      <th>0</th>\n",
       "      <td>11/04/2020</td>\n",
       "      <td>02/01/2020</td>\n",
       "      <td>10/31/2020</td>\n",
       "      <td>United States</td>\n",
       "      <td>All Sexes</td>\n",
       "      <td>All Ages</td>\n",
       "      <td>217348.0</td>\n",
       "      <td>2386184.0</td>\n",
       "      <td>222821.0</td>\n",
       "      <td>98881.0</td>\n",
       "      <td>6764.0</td>\n",
       "      <td>347041.0</td>\n",
       "      <td>NaN</td>\n",
       "    </tr>\n",
       "    <tr>\n",
       "      <th>1</th>\n",
       "      <td>11/04/2020</td>\n",
       "      <td>02/01/2020</td>\n",
       "      <td>10/31/2020</td>\n",
       "      <td>United States</td>\n",
       "      <td>All Sexes</td>\n",
       "      <td>Under 1 year</td>\n",
       "      <td>25.0</td>\n",
       "      <td>13508.0</td>\n",
       "      <td>126.0</td>\n",
       "      <td>4.0</td>\n",
       "      <td>16.0</td>\n",
       "      <td>163.0</td>\n",
       "      <td>NaN</td>\n",
       "    </tr>\n",
       "    <tr>\n",
       "      <th>2</th>\n",
       "      <td>11/04/2020</td>\n",
       "      <td>02/01/2020</td>\n",
       "      <td>10/31/2020</td>\n",
       "      <td>United States</td>\n",
       "      <td>All Sexes</td>\n",
       "      <td>0-17 years</td>\n",
       "      <td>113.0</td>\n",
       "      <td>23950.0</td>\n",
       "      <td>368.0</td>\n",
       "      <td>18.0</td>\n",
       "      <td>124.0</td>\n",
       "      <td>587.0</td>\n",
       "      <td>NaN</td>\n",
       "    </tr>\n",
       "    <tr>\n",
       "      <th>3</th>\n",
       "      <td>11/04/2020</td>\n",
       "      <td>02/01/2020</td>\n",
       "      <td>10/31/2020</td>\n",
       "      <td>United States</td>\n",
       "      <td>All Sexes</td>\n",
       "      <td>1-4 years</td>\n",
       "      <td>15.0</td>\n",
       "      <td>2534.0</td>\n",
       "      <td>81.0</td>\n",
       "      <td>2.0</td>\n",
       "      <td>42.0</td>\n",
       "      <td>136.0</td>\n",
       "      <td>NaN</td>\n",
       "    </tr>\n",
       "    <tr>\n",
       "      <th>4</th>\n",
       "      <td>11/04/2020</td>\n",
       "      <td>02/01/2020</td>\n",
       "      <td>10/31/2020</td>\n",
       "      <td>United States</td>\n",
       "      <td>All Sexes</td>\n",
       "      <td>5-14 years</td>\n",
       "      <td>39.0</td>\n",
       "      <td>4036.0</td>\n",
       "      <td>114.0</td>\n",
       "      <td>7.0</td>\n",
       "      <td>53.0</td>\n",
       "      <td>199.0</td>\n",
       "      <td>NaN</td>\n",
       "    </tr>\n",
       "  </tbody>\n",
       "</table>\n",
       "</div>"
      ],
      "text/plain": [
       "   Data as of  Start week    End Week          State        Sex     Age group  \\\n",
       "0  11/04/2020  02/01/2020  10/31/2020  United States  All Sexes      All Ages   \n",
       "1  11/04/2020  02/01/2020  10/31/2020  United States  All Sexes  Under 1 year   \n",
       "2  11/04/2020  02/01/2020  10/31/2020  United States  All Sexes    0-17 years   \n",
       "3  11/04/2020  02/01/2020  10/31/2020  United States  All Sexes     1-4 years   \n",
       "4  11/04/2020  02/01/2020  10/31/2020  United States  All Sexes    5-14 years   \n",
       "\n",
       "   COVID-19 Deaths  Total Deaths  Pneumonia Deaths  \\\n",
       "0         217348.0     2386184.0          222821.0   \n",
       "1             25.0       13508.0             126.0   \n",
       "2            113.0       23950.0             368.0   \n",
       "3             15.0        2534.0              81.0   \n",
       "4             39.0        4036.0             114.0   \n",
       "\n",
       "   Pneumonia and COVID-19 Deaths  Influenza Deaths  \\\n",
       "0                        98881.0            6764.0   \n",
       "1                            4.0              16.0   \n",
       "2                           18.0             124.0   \n",
       "3                            2.0              42.0   \n",
       "4                            7.0              53.0   \n",
       "\n",
       "   Pneumonia, Influenza, or COVID-19 Deaths Footnote  \n",
       "0                                  347041.0      NaN  \n",
       "1                                     163.0      NaN  \n",
       "2                                     587.0      NaN  \n",
       "3                                     136.0      NaN  \n",
       "4                                     199.0      NaN  "
      ]
     },
     "execution_count": 24,
     "metadata": {},
     "output_type": "execute_result"
    }
   ],
   "source": [
    "covid_deaths_df = pd.read_csv(covid_deaths_csv, low_memory=False)\n",
    "covid_deaths_df.head()"
   ]
  },
  {
   "cell_type": "code",
   "execution_count": 26,
   "metadata": {},
   "outputs": [
    {
     "data": {
      "text/plain": [
       "All Ages             216\n",
       "1-4 years            163\n",
       "75-84 years          163\n",
       "50-64 years          163\n",
       "55-64 years          163\n",
       "65-74 years          163\n",
       "15-24 years          163\n",
       "30-49 years          163\n",
       "5-14 years           163\n",
       "18-29 years          163\n",
       "85 years and over    163\n",
       "25-34 years          163\n",
       "45-54 years          163\n",
       "Under 1 year         163\n",
       "35-44 years          163\n",
       "0-17 years           163\n",
       "Name: Age group, dtype: int64"
      ]
     },
     "execution_count": 26,
     "metadata": {},
     "output_type": "execute_result"
    }
   ],
   "source": [
    "covid_deaths_df[\"Age group\"].value_counts()"
   ]
  },
  {
   "cell_type": "code",
   "execution_count": 27,
   "metadata": {},
   "outputs": [
    {
     "data": {
      "text/plain": [
       "Female       864\n",
       "Unknown      864\n",
       "Male         864\n",
       "All Sexes     69\n",
       "Name: Sex, dtype: int64"
      ]
     },
     "execution_count": 27,
     "metadata": {},
     "output_type": "execute_result"
    }
   ],
   "source": [
    "covid_deaths_df[\"Sex\"].value_counts()"
   ]
  },
  {
   "cell_type": "code",
   "execution_count": 28,
   "metadata": {},
   "outputs": [
    {
     "data": {
      "text/plain": [
       "United States           64\n",
       "Ohio                    49\n",
       "Colorado                49\n",
       "Washington              49\n",
       "Nevada                  49\n",
       "Virginia                49\n",
       "Wyoming                 49\n",
       "Oregon                  49\n",
       "New York                49\n",
       "District of Columbia    49\n",
       "New Hampshire           49\n",
       "Idaho                   49\n",
       "Missouri                49\n",
       "Georgia                 49\n",
       "Wisconsin               49\n",
       "Iowa                    49\n",
       "Kansas                  49\n",
       "New Jersey              49\n",
       "Kentucky                49\n",
       "West Virginia           49\n",
       "Rhode Island            49\n",
       "Massachusetts           49\n",
       "Florida                 49\n",
       "California              49\n",
       "Hawaii                  49\n",
       "New Mexico              49\n",
       "Oklahoma                49\n",
       "Illinois                49\n",
       "Montana                 49\n",
       "Utah                    49\n",
       "Michigan                49\n",
       "Texas                   49\n",
       "Mississippi             49\n",
       "Nebraska                49\n",
       "South Carolina          49\n",
       "Maine                   49\n",
       "North Dakota            49\n",
       "Arizona                 49\n",
       "Puerto Rico             49\n",
       "North Carolina          49\n",
       "Louisiana               49\n",
       "Alaska                  49\n",
       "Delaware                49\n",
       "Vermont                 49\n",
       "Pennsylvania            49\n",
       "Tennessee               49\n",
       "Alabama                 49\n",
       "Maryland                49\n",
       "Indiana                 49\n",
       "Minnesota               49\n",
       "Connecticut             49\n",
       "South Dakota            49\n",
       "Arkansas                49\n",
       "New York City           49\n",
       "Name: State, dtype: int64"
      ]
     },
     "execution_count": 28,
     "metadata": {},
     "output_type": "execute_result"
    }
   ],
   "source": [
    "covid_deaths_df[\"State\"].value_counts()"
   ]
  },
  {
   "cell_type": "code",
   "execution_count": null,
   "metadata": {},
   "outputs": [],
   "source": []
  }
 ],
 "metadata": {
  "kernelspec": {
   "display_name": "Python 3",
   "language": "python",
   "name": "python3"
  },
  "language_info": {
   "codemirror_mode": {
    "name": "ipython",
    "version": 3
   },
   "file_extension": ".py",
   "mimetype": "text/x-python",
   "name": "python",
   "nbconvert_exporter": "python",
   "pygments_lexer": "ipython3",
   "version": "3.8.3"
  }
 },
 "nbformat": 4,
 "nbformat_minor": 4
}
