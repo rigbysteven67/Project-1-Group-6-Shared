{
 "cells": [
  {
   "cell_type": "code",
   "execution_count": 1,
   "metadata": {},
   "outputs": [],
   "source": [
    "# Dependencies\n",
    "import pandas as pd\n",
    "import numpy as np"
   ]
  },
  {
   "cell_type": "code",
   "execution_count": 2,
   "metadata": {},
   "outputs": [],
   "source": [
    "# Path of csv file, originally converted using tabula\n",
    "covid_deaths_by_age_sex_state_path = \"Resources/Provisional_COVID-19_Death_Counts_by_Sex__Age__and_State.csv\"\n",
    "\n",
    "# Read the csv file\n",
    "covid_deaths_by_age_sex_state_path_df = pd.read_csv(covid_deaths_by_age_sex_state_path, low_memory=False)"
   ]
  },
  {
   "cell_type": "code",
   "execution_count": 3,
   "metadata": {},
   "outputs": [
    {
     "name": "stdout",
     "output_type": "stream",
     "text": [
      "\n",
      "COVID-19 Deaths by Age, Sex, State Dataset\n"
     ]
    },
    {
     "data": {
      "text/html": [
       "<div>\n",
       "<style scoped>\n",
       "    .dataframe tbody tr th:only-of-type {\n",
       "        vertical-align: middle;\n",
       "    }\n",
       "\n",
       "    .dataframe tbody tr th {\n",
       "        vertical-align: top;\n",
       "    }\n",
       "\n",
       "    .dataframe thead th {\n",
       "        text-align: right;\n",
       "    }\n",
       "</style>\n",
       "<table border=\"1\" class=\"dataframe\">\n",
       "  <thead>\n",
       "    <tr style=\"text-align: right;\">\n",
       "      <th></th>\n",
       "      <th>Data as of</th>\n",
       "      <th>Start week</th>\n",
       "      <th>End Week</th>\n",
       "      <th>State</th>\n",
       "      <th>Sex</th>\n",
       "      <th>Age group</th>\n",
       "      <th>COVID-19 Deaths</th>\n",
       "      <th>Total Deaths</th>\n",
       "      <th>Pneumonia Deaths</th>\n",
       "      <th>Pneumonia and COVID-19 Deaths</th>\n",
       "      <th>Influenza Deaths</th>\n",
       "      <th>Pneumonia, Influenza, or COVID-19 Deaths</th>\n",
       "      <th>Footnote</th>\n",
       "    </tr>\n",
       "  </thead>\n",
       "  <tbody>\n",
       "    <tr>\n",
       "      <th>0</th>\n",
       "      <td>10/28/2020</td>\n",
       "      <td>02/01/2020</td>\n",
       "      <td>10/24/2020</td>\n",
       "      <td>United States</td>\n",
       "      <td>All Sexes</td>\n",
       "      <td>All Ages</td>\n",
       "      <td>212,328</td>\n",
       "      <td>2,330,395</td>\n",
       "      <td>217,959</td>\n",
       "      <td>96,557</td>\n",
       "      <td>6,750</td>\n",
       "      <td>339,473</td>\n",
       "      <td>NaN</td>\n",
       "    </tr>\n",
       "    <tr>\n",
       "      <th>1</th>\n",
       "      <td>10/28/2020</td>\n",
       "      <td>02/01/2020</td>\n",
       "      <td>10/24/2020</td>\n",
       "      <td>United States</td>\n",
       "      <td>All Sexes</td>\n",
       "      <td>Under 1 year</td>\n",
       "      <td>26</td>\n",
       "      <td>13,183</td>\n",
       "      <td>123</td>\n",
       "      <td>4</td>\n",
       "      <td>16</td>\n",
       "      <td>161</td>\n",
       "      <td>NaN</td>\n",
       "    </tr>\n",
       "    <tr>\n",
       "      <th>2</th>\n",
       "      <td>10/28/2020</td>\n",
       "      <td>02/01/2020</td>\n",
       "      <td>10/24/2020</td>\n",
       "      <td>United States</td>\n",
       "      <td>All Sexes</td>\n",
       "      <td>0-17 years</td>\n",
       "      <td>111</td>\n",
       "      <td>23,357</td>\n",
       "      <td>358</td>\n",
       "      <td>18</td>\n",
       "      <td>124</td>\n",
       "      <td>575</td>\n",
       "      <td>NaN</td>\n",
       "    </tr>\n",
       "    <tr>\n",
       "      <th>3</th>\n",
       "      <td>10/28/2020</td>\n",
       "      <td>02/01/2020</td>\n",
       "      <td>10/24/2020</td>\n",
       "      <td>United States</td>\n",
       "      <td>All Sexes</td>\n",
       "      <td>1-4 years</td>\n",
       "      <td>15</td>\n",
       "      <td>2,484</td>\n",
       "      <td>78</td>\n",
       "      <td>2</td>\n",
       "      <td>42</td>\n",
       "      <td>133</td>\n",
       "      <td>NaN</td>\n",
       "    </tr>\n",
       "    <tr>\n",
       "      <th>4</th>\n",
       "      <td>10/28/2020</td>\n",
       "      <td>02/01/2020</td>\n",
       "      <td>10/24/2020</td>\n",
       "      <td>United States</td>\n",
       "      <td>All Sexes</td>\n",
       "      <td>5-14 years</td>\n",
       "      <td>39</td>\n",
       "      <td>3,931</td>\n",
       "      <td>111</td>\n",
       "      <td>7</td>\n",
       "      <td>53</td>\n",
       "      <td>196</td>\n",
       "      <td>NaN</td>\n",
       "    </tr>\n",
       "  </tbody>\n",
       "</table>\n",
       "</div>"
      ],
      "text/plain": [
       "   Data as of  Start week    End Week          State        Sex     Age group  \\\n",
       "0  10/28/2020  02/01/2020  10/24/2020  United States  All Sexes      All Ages   \n",
       "1  10/28/2020  02/01/2020  10/24/2020  United States  All Sexes  Under 1 year   \n",
       "2  10/28/2020  02/01/2020  10/24/2020  United States  All Sexes    0-17 years   \n",
       "3  10/28/2020  02/01/2020  10/24/2020  United States  All Sexes     1-4 years   \n",
       "4  10/28/2020  02/01/2020  10/24/2020  United States  All Sexes    5-14 years   \n",
       "\n",
       "  COVID-19 Deaths Total Deaths Pneumonia Deaths Pneumonia and COVID-19 Deaths  \\\n",
       "0         212,328    2,330,395          217,959                        96,557   \n",
       "1              26       13,183              123                             4   \n",
       "2             111       23,357              358                            18   \n",
       "3              15        2,484               78                             2   \n",
       "4              39        3,931              111                             7   \n",
       "\n",
       "  Influenza Deaths Pneumonia, Influenza, or COVID-19 Deaths Footnote  \n",
       "0            6,750                                  339,473      NaN  \n",
       "1               16                                      161      NaN  \n",
       "2              124                                      575      NaN  \n",
       "3               42                                      133      NaN  \n",
       "4               53                                      196      NaN  "
      ]
     },
     "execution_count": 3,
     "metadata": {},
     "output_type": "execute_result"
    }
   ],
   "source": [
    "# Display the data table for preview\n",
    "print()\n",
    "print(f\"COVID-19 Deaths by Age, Sex, State Dataset\")\n",
    "covid_deaths_by_age_sex_state_path_df.head()"
   ]
  },
  {
   "cell_type": "code",
   "execution_count": 8,
   "metadata": {},
   "outputs": [
    {
     "data": {
      "text/plain": [
       "Male         864\n",
       "Female       864\n",
       "Unknown      864\n",
       "All Sexes     69\n",
       "Name: Sex, dtype: int64"
      ]
     },
     "execution_count": 8,
     "metadata": {},
     "output_type": "execute_result"
    }
   ],
   "source": [
    "covid_deaths_by_age_sex_state_path_df[\"Sex\"].value_counts()"
   ]
  },
  {
   "cell_type": "code",
   "execution_count": 10,
   "metadata": {},
   "outputs": [
    {
     "data": {
      "text/plain": [
       "All Ages             216\n",
       "45-54 years          163\n",
       "1-4 years            163\n",
       "85 years and over    163\n",
       "25-34 years          163\n",
       "55-64 years          163\n",
       "18-29 years          163\n",
       "50-64 years          163\n",
       "35-44 years          163\n",
       "75-84 years          163\n",
       "15-24 years          163\n",
       "65-74 years          163\n",
       "5-14 years           163\n",
       "30-49 years          163\n",
       "0-17 years           163\n",
       "Under 1 year         163\n",
       "Name: Age group, dtype: int64"
      ]
     },
     "execution_count": 10,
     "metadata": {},
     "output_type": "execute_result"
    }
   ],
   "source": [
    "covid_deaths_by_age_sex_state_path_df[\"Age group\"].value_counts()"
   ]
  },
  {
   "cell_type": "code",
   "execution_count": 9,
   "metadata": {},
   "outputs": [
    {
     "data": {
      "text/plain": [
       "United States           64\n",
       "New Hampshire           49\n",
       "Alabama                 49\n",
       "Wisconsin               49\n",
       "Kentucky                49\n",
       "Michigan                49\n",
       "Florida                 49\n",
       "Colorado                49\n",
       "Washington              49\n",
       "Kansas                  49\n",
       "New Jersey              49\n",
       "New Mexico              49\n",
       "Georgia                 49\n",
       "District of Columbia    49\n",
       "Oregon                  49\n",
       "Alaska                  49\n",
       "New York City           49\n",
       "North Carolina          49\n",
       "Vermont                 49\n",
       "Louisiana               49\n",
       "South Dakota            49\n",
       "Maryland                49\n",
       "Massachusetts           49\n",
       "Nevada                  49\n",
       "Connecticut             49\n",
       "North Dakota            49\n",
       "Ohio                    49\n",
       "Montana                 49\n",
       "Pennsylvania            49\n",
       "Missouri                49\n",
       "Utah                    49\n",
       "Oklahoma                49\n",
       "Minnesota               49\n",
       "New York                49\n",
       "Texas                   49\n",
       "Maine                   49\n",
       "Virginia                49\n",
       "Indiana                 49\n",
       "Puerto Rico             49\n",
       "Mississippi             49\n",
       "Rhode Island            49\n",
       "Hawaii                  49\n",
       "Wyoming                 49\n",
       "Arizona                 49\n",
       "Delaware                49\n",
       "California              49\n",
       "Arkansas                49\n",
       "Iowa                    49\n",
       "Tennessee               49\n",
       "South Carolina          49\n",
       "Nebraska                49\n",
       "Idaho                   49\n",
       "Illinois                49\n",
       "West Virginia           49\n",
       "Name: State, dtype: int64"
      ]
     },
     "execution_count": 9,
     "metadata": {},
     "output_type": "execute_result"
    }
   ],
   "source": [
    "covid_deaths_by_age_sex_state_path_df[\"State\"].value_counts()"
   ]
  },
  {
   "cell_type": "code",
   "execution_count": null,
   "metadata": {},
   "outputs": [],
   "source": []
  }
 ],
 "metadata": {
  "kernelspec": {
   "display_name": "Python 3",
   "language": "python",
   "name": "python3"
  },
  "language_info": {
   "codemirror_mode": {
    "name": "ipython",
    "version": 3
   },
   "file_extension": ".py",
   "mimetype": "text/x-python",
   "name": "python",
   "nbconvert_exporter": "python",
   "pygments_lexer": "ipython3",
   "version": "3.8.3"
  }
 },
 "nbformat": 4,
 "nbformat_minor": 4
}
