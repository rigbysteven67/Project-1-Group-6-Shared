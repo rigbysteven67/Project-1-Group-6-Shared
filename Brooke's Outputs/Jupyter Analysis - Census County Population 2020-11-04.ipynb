{
 "cells": [
  {
   "cell_type": "code",
   "execution_count": 11,
   "metadata": {},
   "outputs": [],
   "source": [
    "# Dependencies\n",
    "import pandas as pd\n",
    "import numpy as np"
   ]
  },
  {
   "cell_type": "code",
   "execution_count": 12,
   "metadata": {},
   "outputs": [],
   "source": [
    "# Path of csv file, originally converted using tabula\n",
    "census_county_population_path = \"Resources/co-est2019-annres.xlsx\"\n",
    "\n",
    "# Read the csv file\n",
    "census_county_population_df = pd.read_excel(census_county_population_path, header=[3, ], comment='#')\n",
    "\n",
    "# pd.read_excel('tmp.xlsx', index_col=0)  "
   ]
  },
  {
   "cell_type": "code",
   "execution_count": 13,
   "metadata": {},
   "outputs": [
    {
     "name": "stdout",
     "output_type": "stream",
     "text": [
      "\n",
      "Census Bureau County Population Dataset\n"
     ]
    },
    {
     "data": {
      "text/html": [
       "<div>\n",
       "<style scoped>\n",
       "    .dataframe tbody tr th:only-of-type {\n",
       "        vertical-align: middle;\n",
       "    }\n",
       "\n",
       "    .dataframe tbody tr th {\n",
       "        vertical-align: top;\n",
       "    }\n",
       "\n",
       "    .dataframe thead th {\n",
       "        text-align: right;\n",
       "    }\n",
       "</style>\n",
       "<table border=\"1\" class=\"dataframe\">\n",
       "  <thead>\n",
       "    <tr style=\"text-align: right;\">\n",
       "      <th></th>\n",
       "      <th>Unnamed: 0</th>\n",
       "      <th>Census</th>\n",
       "      <th>Estimates Base</th>\n",
       "      <th>2010</th>\n",
       "      <th>2011</th>\n",
       "      <th>2012</th>\n",
       "      <th>2013</th>\n",
       "      <th>2014</th>\n",
       "      <th>2015</th>\n",
       "      <th>2016</th>\n",
       "      <th>2017</th>\n",
       "      <th>2018</th>\n",
       "      <th>2019</th>\n",
       "    </tr>\n",
       "  </thead>\n",
       "  <tbody>\n",
       "    <tr>\n",
       "      <th>0</th>\n",
       "      <td>United States</td>\n",
       "      <td>308745538.0</td>\n",
       "      <td>308758105.0</td>\n",
       "      <td>309321666.0</td>\n",
       "      <td>311556874.0</td>\n",
       "      <td>313830990.0</td>\n",
       "      <td>315993715.0</td>\n",
       "      <td>318301008.0</td>\n",
       "      <td>320635163.0</td>\n",
       "      <td>322941311.0</td>\n",
       "      <td>324985539.0</td>\n",
       "      <td>326687501.0</td>\n",
       "      <td>328239523.0</td>\n",
       "    </tr>\n",
       "    <tr>\n",
       "      <th>1</th>\n",
       "      <td>.Autauga County, Alabama</td>\n",
       "      <td>54571.0</td>\n",
       "      <td>54597.0</td>\n",
       "      <td>54773.0</td>\n",
       "      <td>55227.0</td>\n",
       "      <td>54954.0</td>\n",
       "      <td>54727.0</td>\n",
       "      <td>54893.0</td>\n",
       "      <td>54864.0</td>\n",
       "      <td>55243.0</td>\n",
       "      <td>55390.0</td>\n",
       "      <td>55533.0</td>\n",
       "      <td>55869.0</td>\n",
       "    </tr>\n",
       "    <tr>\n",
       "      <th>2</th>\n",
       "      <td>.Baldwin County, Alabama</td>\n",
       "      <td>182265.0</td>\n",
       "      <td>182265.0</td>\n",
       "      <td>183112.0</td>\n",
       "      <td>186558.0</td>\n",
       "      <td>190145.0</td>\n",
       "      <td>194885.0</td>\n",
       "      <td>199183.0</td>\n",
       "      <td>202939.0</td>\n",
       "      <td>207601.0</td>\n",
       "      <td>212521.0</td>\n",
       "      <td>217855.0</td>\n",
       "      <td>223234.0</td>\n",
       "    </tr>\n",
       "    <tr>\n",
       "      <th>3</th>\n",
       "      <td>.Barbour County, Alabama</td>\n",
       "      <td>27457.0</td>\n",
       "      <td>27455.0</td>\n",
       "      <td>27327.0</td>\n",
       "      <td>27341.0</td>\n",
       "      <td>27169.0</td>\n",
       "      <td>26937.0</td>\n",
       "      <td>26755.0</td>\n",
       "      <td>26283.0</td>\n",
       "      <td>25806.0</td>\n",
       "      <td>25157.0</td>\n",
       "      <td>24872.0</td>\n",
       "      <td>24686.0</td>\n",
       "    </tr>\n",
       "    <tr>\n",
       "      <th>4</th>\n",
       "      <td>.Bibb County, Alabama</td>\n",
       "      <td>22915.0</td>\n",
       "      <td>22915.0</td>\n",
       "      <td>22870.0</td>\n",
       "      <td>22745.0</td>\n",
       "      <td>22667.0</td>\n",
       "      <td>22521.0</td>\n",
       "      <td>22553.0</td>\n",
       "      <td>22566.0</td>\n",
       "      <td>22586.0</td>\n",
       "      <td>22550.0</td>\n",
       "      <td>22367.0</td>\n",
       "      <td>22394.0</td>\n",
       "    </tr>\n",
       "  </tbody>\n",
       "</table>\n",
       "</div>"
      ],
      "text/plain": [
       "                 Unnamed: 0       Census  Estimates Base         2010  \\\n",
       "0             United States  308745538.0     308758105.0  309321666.0   \n",
       "1  .Autauga County, Alabama      54571.0         54597.0      54773.0   \n",
       "2  .Baldwin County, Alabama     182265.0        182265.0     183112.0   \n",
       "3  .Barbour County, Alabama      27457.0         27455.0      27327.0   \n",
       "4     .Bibb County, Alabama      22915.0         22915.0      22870.0   \n",
       "\n",
       "          2011         2012         2013         2014         2015  \\\n",
       "0  311556874.0  313830990.0  315993715.0  318301008.0  320635163.0   \n",
       "1      55227.0      54954.0      54727.0      54893.0      54864.0   \n",
       "2     186558.0     190145.0     194885.0     199183.0     202939.0   \n",
       "3      27341.0      27169.0      26937.0      26755.0      26283.0   \n",
       "4      22745.0      22667.0      22521.0      22553.0      22566.0   \n",
       "\n",
       "          2016         2017         2018         2019  \n",
       "0  322941311.0  324985539.0  326687501.0  328239523.0  \n",
       "1      55243.0      55390.0      55533.0      55869.0  \n",
       "2     207601.0     212521.0     217855.0     223234.0  \n",
       "3      25806.0      25157.0      24872.0      24686.0  \n",
       "4      22586.0      22550.0      22367.0      22394.0  "
      ]
     },
     "execution_count": 13,
     "metadata": {},
     "output_type": "execute_result"
    }
   ],
   "source": [
    "# Display the data table for preview\n",
    "print()\n",
    "print(f\"Census Bureau County Population Dataset\")\n",
    "census_county_population_df.head()"
   ]
  },
  {
   "cell_type": "code",
   "execution_count": 15,
   "metadata": {},
   "outputs": [
    {
     "data": {
      "text/plain": [
       "3149"
      ]
     },
     "execution_count": 15,
     "metadata": {},
     "output_type": "execute_result"
    }
   ],
   "source": [
    "len(census_county_population_df.index)"
   ]
  }
 ],
 "metadata": {
  "kernelspec": {
   "display_name": "Python 3",
   "language": "python",
   "name": "python3"
  },
  "language_info": {
   "codemirror_mode": {
    "name": "ipython",
    "version": 3
   },
   "file_extension": ".py",
   "mimetype": "text/x-python",
   "name": "python",
   "nbconvert_exporter": "python",
   "pygments_lexer": "ipython3",
   "version": "3.8.3"
  }
 },
 "nbformat": 4,
 "nbformat_minor": 4
}
