{
 "cells": [
  {
   "cell_type": "code",
   "execution_count": 2,
   "metadata": {},
   "outputs": [],
   "source": [
    "# Dependencies\n",
    "import pandas as pd\n",
    "import numpy as np"
   ]
  },
  {
   "cell_type": "code",
   "execution_count": 3,
   "metadata": {},
   "outputs": [],
   "source": [
    "# Path of csv file, originally converted using tabula\n",
    "covid_deaths_by_county_path = \"Resources/Provisional_COVID-19_Death_Counts_in_the_United_States_by_County.csv\"\n",
    "\n",
    "# Read the csv file\n",
    "covid_deaths_by_county_df = pd.read_csv(covid_deaths_by_county_path, low_memory=False)"
   ]
  },
  {
   "cell_type": "code",
   "execution_count": 4,
   "metadata": {},
   "outputs": [
    {
     "name": "stdout",
     "output_type": "stream",
     "text": [
      "\n",
      "Excess Deaths Probably Associated with Covid-19 Dataset\n"
     ]
    },
    {
     "data": {
      "text/html": [
       "<div>\n",
       "<style scoped>\n",
       "    .dataframe tbody tr th:only-of-type {\n",
       "        vertical-align: middle;\n",
       "    }\n",
       "\n",
       "    .dataframe tbody tr th {\n",
       "        vertical-align: top;\n",
       "    }\n",
       "\n",
       "    .dataframe thead th {\n",
       "        text-align: right;\n",
       "    }\n",
       "</style>\n",
       "<table border=\"1\" class=\"dataframe\">\n",
       "  <thead>\n",
       "    <tr style=\"text-align: right;\">\n",
       "      <th></th>\n",
       "      <th>Date as of</th>\n",
       "      <th>First week</th>\n",
       "      <th>Last week</th>\n",
       "      <th>State</th>\n",
       "      <th>County name</th>\n",
       "      <th>FIPS County Code</th>\n",
       "      <th>Urban Rural Code</th>\n",
       "      <th>Deaths involving COVID-19</th>\n",
       "      <th>Deaths from All Causes</th>\n",
       "    </tr>\n",
       "  </thead>\n",
       "  <tbody>\n",
       "    <tr>\n",
       "      <th>0</th>\n",
       "      <td>10/28/2020</td>\n",
       "      <td>02/01/2020</td>\n",
       "      <td>10/24/2020</td>\n",
       "      <td>AK</td>\n",
       "      <td>Anchorage Borough</td>\n",
       "      <td>2020</td>\n",
       "      <td>Medium metro</td>\n",
       "      <td>38</td>\n",
       "      <td>1,499</td>\n",
       "    </tr>\n",
       "    <tr>\n",
       "      <th>1</th>\n",
       "      <td>10/28/2020</td>\n",
       "      <td>02/01/2020</td>\n",
       "      <td>10/24/2020</td>\n",
       "      <td>AK</td>\n",
       "      <td>Fairbanks North Star Borough</td>\n",
       "      <td>2090</td>\n",
       "      <td>Small metro</td>\n",
       "      <td>14</td>\n",
       "      <td>351</td>\n",
       "    </tr>\n",
       "    <tr>\n",
       "      <th>2</th>\n",
       "      <td>10/28/2020</td>\n",
       "      <td>02/01/2020</td>\n",
       "      <td>10/24/2020</td>\n",
       "      <td>AL</td>\n",
       "      <td>Autauga County</td>\n",
       "      <td>1001</td>\n",
       "      <td>Medium metro</td>\n",
       "      <td>27</td>\n",
       "      <td>381</td>\n",
       "    </tr>\n",
       "    <tr>\n",
       "      <th>3</th>\n",
       "      <td>10/28/2020</td>\n",
       "      <td>02/01/2020</td>\n",
       "      <td>10/24/2020</td>\n",
       "      <td>AL</td>\n",
       "      <td>Baldwin County</td>\n",
       "      <td>1003</td>\n",
       "      <td>Small metro</td>\n",
       "      <td>80</td>\n",
       "      <td>1,619</td>\n",
       "    </tr>\n",
       "    <tr>\n",
       "      <th>4</th>\n",
       "      <td>10/28/2020</td>\n",
       "      <td>02/01/2020</td>\n",
       "      <td>10/24/2020</td>\n",
       "      <td>AL</td>\n",
       "      <td>Barbour County</td>\n",
       "      <td>1005</td>\n",
       "      <td>Noncore</td>\n",
       "      <td>12</td>\n",
       "      <td>198</td>\n",
       "    </tr>\n",
       "  </tbody>\n",
       "</table>\n",
       "</div>"
      ],
      "text/plain": [
       "   Date as of  First week   Last week State                   County name  \\\n",
       "0  10/28/2020  02/01/2020  10/24/2020    AK             Anchorage Borough   \n",
       "1  10/28/2020  02/01/2020  10/24/2020    AK  Fairbanks North Star Borough   \n",
       "2  10/28/2020  02/01/2020  10/24/2020    AL                Autauga County   \n",
       "3  10/28/2020  02/01/2020  10/24/2020    AL                Baldwin County   \n",
       "4  10/28/2020  02/01/2020  10/24/2020    AL                Barbour County   \n",
       "\n",
       "   FIPS County Code Urban Rural Code Deaths involving COVID-19  \\\n",
       "0              2020     Medium metro                        38   \n",
       "1              2090      Small metro                        14   \n",
       "2              1001     Medium metro                        27   \n",
       "3              1003      Small metro                        80   \n",
       "4              1005          Noncore                        12   \n",
       "\n",
       "  Deaths from All Causes  \n",
       "0                  1,499  \n",
       "1                    351  \n",
       "2                    381  \n",
       "3                  1,619  \n",
       "4                    198  "
      ]
     },
     "execution_count": 4,
     "metadata": {},
     "output_type": "execute_result"
    }
   ],
   "source": [
    "# Display the data table for preview\n",
    "print()\n",
    "print(f\"Excess Deaths Probably Associated with Covid-19 Dataset\")\n",
    "covid_deaths_by_county_df.head()"
   ]
  },
  {
   "cell_type": "code",
   "execution_count": 5,
   "metadata": {},
   "outputs": [
    {
     "data": {
      "text/plain": [
       "1206"
      ]
     },
     "execution_count": 5,
     "metadata": {},
     "output_type": "execute_result"
    }
   ],
   "source": [
    "len(covid_deaths_by_county_df.index)"
   ]
  },
  {
   "cell_type": "code",
   "execution_count": 1,
   "metadata": {},
   "outputs": [
    {
     "ename": "NameError",
     "evalue": "name 'covid_deaths_by_county_df' is not defined",
     "output_type": "error",
     "traceback": [
      "\u001b[1;31m---------------------------------------------------------------------------\u001b[0m",
      "\u001b[1;31mNameError\u001b[0m                                 Traceback (most recent call last)",
      "\u001b[1;32m<ipython-input-1-78d3463c4554>\u001b[0m in \u001b[0;36m<module>\u001b[1;34m\u001b[0m\n\u001b[1;32m----> 1\u001b[1;33m \u001b[0mcovid_deaths_by_county_group\u001b[0m \u001b[1;33m=\u001b[0m \u001b[0mcovid_deaths_by_county_df\u001b[0m\u001b[1;33m.\u001b[0m\u001b[0mgroupby\u001b[0m\u001b[1;33m(\u001b[0m\u001b[1;33m[\u001b[0m\u001b[1;34m\"State\"\u001b[0m\u001b[1;33m,\u001b[0m \u001b[1;34m\"County name\"\u001b[0m\u001b[1;33m]\u001b[0m\u001b[1;33m)\u001b[0m\u001b[1;33m.\u001b[0m\u001b[0mmax\u001b[0m\u001b[1;33m(\u001b[0m\u001b[1;33m)\u001b[0m\u001b[1;33m\u001b[0m\u001b[1;33m\u001b[0m\u001b[0m\n\u001b[0m\u001b[0;32m      2\u001b[0m \u001b[0mcovid_deaths_by_county_group\u001b[0m\u001b[1;33m.\u001b[0m\u001b[0mhead\u001b[0m\u001b[1;33m(\u001b[0m\u001b[1;36m30\u001b[0m\u001b[1;33m)\u001b[0m\u001b[1;33m\u001b[0m\u001b[1;33m\u001b[0m\u001b[0m\n",
      "\u001b[1;31mNameError\u001b[0m: name 'covid_deaths_by_county_df' is not defined"
     ]
    }
   ],
   "source": [
    "covid_deaths_by_county_group = covid_deaths_by_county_df.groupby([\"State\", \"County name\"]).max()\n",
    "covid_deaths_by_county_group.head(30)"
   ]
  },
  {
   "cell_type": "code",
   "execution_count": 6,
   "metadata": {},
   "outputs": [
    {
     "data": {
      "text/plain": [
       "Date as of                   object\n",
       "First week                   object\n",
       "Last week                    object\n",
       "State                        object\n",
       "County name                  object\n",
       "FIPS County Code              int64\n",
       "Urban Rural Code             object\n",
       "Deaths involving COVID-19    object\n",
       "Deaths from All Causes       object\n",
       "dtype: object"
      ]
     },
     "execution_count": 6,
     "metadata": {},
     "output_type": "execute_result"
    }
   ],
   "source": [
    "covid_deaths_by_county_df.dtypes"
   ]
  },
  {
   "cell_type": "code",
   "execution_count": 7,
   "metadata": {},
   "outputs": [],
   "source": [
    "# For convenience\n",
    "# df1 = covid_deaths_by_county_df\n",
    "\n",
    "# df1[\"Deaths involving COVID-19\"] = df1[\"Deaths involving COVID-19\"].astype(str).astype(int)\n",
    "# df1[\"Deaths from All Causes\"] = df1[\"Deaths from All Causes\"].astype(str).astype(int)\n",
    "\n",
    "# Reverting df name\n",
    "# covid_deaths_by_county_df = df1"
   ]
  },
  {
   "cell_type": "code",
   "execution_count": null,
   "metadata": {},
   "outputs": [],
   "source": []
  }
 ],
 "metadata": {
  "kernelspec": {
   "display_name": "Python 3",
   "language": "python",
   "name": "python3"
  },
  "language_info": {
   "codemirror_mode": {
    "name": "ipython",
    "version": 3
   },
   "file_extension": ".py",
   "mimetype": "text/x-python",
   "name": "python",
   "nbconvert_exporter": "python",
   "pygments_lexer": "ipython3",
   "version": "3.8.3"
  }
 },
 "nbformat": 4,
 "nbformat_minor": 4
}
