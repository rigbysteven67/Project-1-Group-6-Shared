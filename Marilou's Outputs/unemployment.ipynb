{
 "cells": [
  {
   "cell_type": "code",
   "execution_count": 5,
   "metadata": {},
   "outputs": [],
   "source": [
    "#Observations\n",
    "#With the pandemic, \n",
    "#1. Long-term unemployment (people who are out of work 27 weeks or longer as a percent of total unemployed) \n",
    "#   has increased 8-fold.\n",
    "#2. The Hispanic/Latino community had the highest unemployment at the onset of the pandemic, but has seen the\n",
    "#   most dramatic improvement since.\n",
    "#3. The African-American group continues to be the most impacted by the pandemic.\n",
    "#4. It should come as no surprise that unemployment, during periods where there is an extraneous shock to the system \n",
    "#   such as the pandemic, is reflected as an outlier.  \n",
    "#   The question is whether the outlier sets the new boundaries over time."
   ]
  },
  {
   "cell_type": "code",
   "execution_count": 6,
   "metadata": {},
   "outputs": [
    {
     "ename": "ModuleNotFoundError",
     "evalue": "No module named 'config'",
     "output_type": "error",
     "traceback": [
      "\u001b[1;31m---------------------------------------------------------------------------\u001b[0m",
      "\u001b[1;31mModuleNotFoundError\u001b[0m                       Traceback (most recent call last)",
      "\u001b[1;32m<ipython-input-6-2f52aec091f5>\u001b[0m in \u001b[0;36m<module>\u001b[1;34m\u001b[0m\n\u001b[0;32m      7\u001b[0m \u001b[1;32mimport\u001b[0m \u001b[0mjson\u001b[0m\u001b[1;33m\u001b[0m\u001b[1;33m\u001b[0m\u001b[0m\n\u001b[0;32m      8\u001b[0m \u001b[1;32mimport\u001b[0m \u001b[0mrequests\u001b[0m\u001b[1;33m\u001b[0m\u001b[1;33m\u001b[0m\u001b[0m\n\u001b[1;32m----> 9\u001b[1;33m \u001b[1;32mfrom\u001b[0m \u001b[0mconfig\u001b[0m \u001b[1;32mimport\u001b[0m \u001b[0mapi_key\u001b[0m\u001b[1;33m\u001b[0m\u001b[1;33m\u001b[0m\u001b[0m\n\u001b[0m",
      "\u001b[1;31mModuleNotFoundError\u001b[0m: No module named 'config'"
     ]
    }
   ],
   "source": [
    "#load modules\n",
    "# Dependencies and Setup\n",
    "import matplotlib.pyplot as plt\n",
    "import pandas as pd\n",
    "import scipy.stats as st\n",
    "import numpy as np\n",
    "import json \n",
    "import requests\n",
    "from config import api_key\n"
   ]
  },
  {
   "cell_type": "code",
   "execution_count": null,
   "metadata": {},
   "outputs": [],
   "source": [
    "#BLS url\n",
    "endpoint = 'https://api.bls.gov/publicAPI/v2/timeseries/data/'\n",
    "\n",
    "#timeseries of monthly unemployment data to query\n",
    "series = ['LNS14000000','LNS14000006','LNS14000009','LNS14032183','LNS14000003','LNS13025703'] \n",
    "startyear = '2018'\n",
    "endyear = '2020'\n",
    "\n",
    "\n",
    "#setup json request\n",
    "headers = {'Content-type': 'application/json'}\n",
    "data = json.dumps(\n",
    "    {\"seriesid\": series,\n",
    "     \"registrationkey\": api_key,\n",
    "     \"startyear\":startyear, \n",
    "     \"endyear\":endyear})\n",
    "\n",
    "stat = requests.post(endpoint, data=data, headers=headers)\n",
    "stat_data = json.loads(stat.text)\n",
    "#stat = requests.post(endpoint, data=data, headers=headers)\n",
    "\n",
    "\n",
    "#setup lists to hold stats\n",
    "seriesid = []\n",
    "year= []\n",
    "period = []\n",
    "periodName = []\n",
    "value = []\n",
    "\n",
    "for series in stat_data['Results']['series']:\n",
    "    seriesId = series['seriesID']\n",
    "    for data in series['data']:\n",
    "        year.append(data['year'])\n",
    "        period.append(data['period'])\n",
    "        periodName.append(data['periodName'])\n",
    "        value.append(data['value'])\n",
    "        seriesid.append(series['seriesID'])\n",
    " "
   ]
  },
  {
   "cell_type": "code",
   "execution_count": null,
   "metadata": {},
   "outputs": [],
   "source": [
    "#create dataframe\n",
    "unemployment_df = pd.DataFrame({\n",
    "    \"Series\":seriesid,\n",
    "    \"Year\": year,\n",
    "    \"Month Code\": period,\n",
    "    \"Month\": periodName,\n",
    "    \"Unemployment Rate\": value\n",
    "})\n",
    "\n",
    "unemployment_df.head()"
   ]
  },
  {
   "cell_type": "code",
   "execution_count": 4,
   "metadata": {},
   "outputs": [
    {
     "ename": "NameError",
     "evalue": "name 'unemployment_df' is not defined",
     "output_type": "error",
     "traceback": [
      "\u001b[1;31m---------------------------------------------------------------------------\u001b[0m",
      "\u001b[1;31mNameError\u001b[0m                                 Traceback (most recent call last)",
      "\u001b[1;32m<ipython-input-4-d18772912d72>\u001b[0m in \u001b[0;36m<module>\u001b[1;34m\u001b[0m\n\u001b[0;32m      1\u001b[0m \u001b[1;31m#Add combined Mth and Year column\u001b[0m\u001b[1;33m\u001b[0m\u001b[1;33m\u001b[0m\u001b[1;33m\u001b[0m\u001b[0m\n\u001b[1;32m----> 2\u001b[1;33m \u001b[0munemployment_df\u001b[0m\u001b[1;33m[\u001b[0m\u001b[1;34m'Mth/Year'\u001b[0m\u001b[1;33m]\u001b[0m \u001b[1;33m=\u001b[0m \u001b[0mpd\u001b[0m\u001b[1;33m.\u001b[0m\u001b[0mto_datetime\u001b[0m\u001b[1;33m(\u001b[0m\u001b[0munemployment_df\u001b[0m\u001b[1;33m[\u001b[0m\u001b[1;34m'Month'\u001b[0m\u001b[1;33m]\u001b[0m\u001b[1;33m.\u001b[0m\u001b[0mastype\u001b[0m\u001b[1;33m(\u001b[0m\u001b[0mstr\u001b[0m\u001b[1;33m)\u001b[0m\u001b[1;33m+\u001b[0m\u001b[0munemployment_df\u001b[0m\u001b[1;33m[\u001b[0m\u001b[1;34m'Year'\u001b[0m\u001b[1;33m]\u001b[0m\u001b[1;33m,\u001b[0m \u001b[0mformat\u001b[0m\u001b[1;33m=\u001b[0m\u001b[1;34m'%B%Y'\u001b[0m\u001b[1;33m)\u001b[0m\u001b[1;33m\u001b[0m\u001b[1;33m\u001b[0m\u001b[0m\n\u001b[0m\u001b[0;32m      3\u001b[0m \u001b[1;33m\u001b[0m\u001b[0m\n\u001b[0;32m      4\u001b[0m \u001b[1;31m#convert Unemployment Rate to numeric to get max and min\u001b[0m\u001b[1;33m\u001b[0m\u001b[1;33m\u001b[0m\u001b[1;33m\u001b[0m\u001b[0m\n\u001b[0;32m      5\u001b[0m \u001b[0munemployment_df\u001b[0m\u001b[1;33m[\u001b[0m\u001b[1;34m'Unemployment Rate'\u001b[0m\u001b[1;33m]\u001b[0m \u001b[1;33m=\u001b[0m \u001b[0mpd\u001b[0m\u001b[1;33m.\u001b[0m\u001b[0mto_numeric\u001b[0m\u001b[1;33m(\u001b[0m\u001b[0munemployment_df\u001b[0m\u001b[1;33m[\u001b[0m\u001b[1;34m'Unemployment Rate'\u001b[0m\u001b[1;33m]\u001b[0m\u001b[1;33m)\u001b[0m\u001b[1;33m\u001b[0m\u001b[1;33m\u001b[0m\u001b[0m\n",
      "\u001b[1;31mNameError\u001b[0m: name 'unemployment_df' is not defined"
     ]
    }
   ],
   "source": [
    "#Add combined Mth and Year column\n",
    "unemployment_df['Mth/Year'] = pd.to_datetime(unemployment_df['Month'].astype(str)+unemployment_df['Year'], format='%B%Y')\n",
    "\n",
    "#convert Unemployment Rate to numeric to get max and min\n",
    "unemployment_df['Unemployment Rate'] = pd.to_numeric(unemployment_df['Unemployment Rate'])\n",
    "\n",
    "#sort values\n",
    "unemployment_df = unemployment_df.sort_values(by=['Series','Mth/Year'], ascending=[True,True], inplace=False, ignore_index=True)\n",
    "\n",
    "#verify sort and check min, max\n",
    "unemployment_df.head(), unemployment_df['Unemployment Rate'].min(), unemployment_df['Unemployment Rate'].max()"
   ]
  },
  {
   "cell_type": "code",
   "execution_count": 3,
   "metadata": {},
   "outputs": [
    {
     "ename": "NameError",
     "evalue": "name 'unemployment_df' is not defined",
     "output_type": "error",
     "traceback": [
      "\u001b[1;31m---------------------------------------------------------------------------\u001b[0m",
      "\u001b[1;31mNameError\u001b[0m                                 Traceback (most recent call last)",
      "\u001b[1;32m<ipython-input-3-2196d8450b50>\u001b[0m in \u001b[0;36m<module>\u001b[1;34m\u001b[0m\n\u001b[0;32m      1\u001b[0m \u001b[1;31m#drop Month and Year\u001b[0m\u001b[1;33m\u001b[0m\u001b[1;33m\u001b[0m\u001b[1;33m\u001b[0m\u001b[0m\n\u001b[1;32m----> 2\u001b[1;33m \u001b[0munemployment\u001b[0m \u001b[1;33m=\u001b[0m \u001b[0munemployment_df\u001b[0m\u001b[1;33m[\u001b[0m\u001b[1;33m[\u001b[0m\u001b[1;34m'Series'\u001b[0m\u001b[1;33m,\u001b[0m \u001b[1;34m'Month Code'\u001b[0m\u001b[1;33m,\u001b[0m \u001b[1;34m'Unemployment Rate'\u001b[0m\u001b[1;33m,\u001b[0m \u001b[1;34m'Mth/Year'\u001b[0m\u001b[1;33m]\u001b[0m\u001b[1;33m]\u001b[0m\u001b[1;33m\u001b[0m\u001b[1;33m\u001b[0m\u001b[0m\n\u001b[0m\u001b[0;32m      3\u001b[0m \u001b[1;33m\u001b[0m\u001b[0m\n\u001b[0;32m      4\u001b[0m \u001b[0munemployment\u001b[0m\u001b[1;33m.\u001b[0m\u001b[0mhead\u001b[0m\u001b[1;33m(\u001b[0m\u001b[1;33m)\u001b[0m\u001b[1;33m\u001b[0m\u001b[1;33m\u001b[0m\u001b[0m\n",
      "\u001b[1;31mNameError\u001b[0m: name 'unemployment_df' is not defined"
     ]
    }
   ],
   "source": [
    "#drop Month and Year\n",
    "unemployment_df = unemployment_df[['Series', 'Month Code', 'Unemployment Rate', 'Mth/Year']]\n",
    "\n",
    "unemployment.head()"
   ]
  },
  {
   "cell_type": "code",
   "execution_count": null,
   "metadata": {},
   "outputs": [],
   "source": [
    "#series description\n",
    "#'LNS14000000' is 'Seasonal Total Unemployment Rate'\n",
    "#'LNS14000006' is 'Unemployment-AfricanAmerican'\n",
    "#'LNS14000009' is 'Unemployment-Hispanic'\n",
    "#'LNS14032183' is 'Unemployment-Asian'\n",
    "#'LNS14000003' is 'Unemployment-White'\n",
    "#'LNS13025703' is 'Long-Term Unemployment Rate'"
   ]
  },
  {
   "cell_type": "code",
   "execution_count": null,
   "metadata": {},
   "outputs": [],
   "source": [
    "#Isolating the unemployment rate\n",
    "unerate = unemployment.loc[unemployment['Series'] == 'LNS14000000',:]\n",
    "uneafam = unemployment.loc[unemployment['Series'] == 'LNS14000006',:]\n",
    "unehisp = unemployment.loc[unemployment['Series'] == 'LNS14000009',:]\n",
    "uneasian = unemployment.loc[unemployment['Series'] =='LNS14032183',:]\n",
    "unewhite = unemployment.loc[unemployment['Series'] =='LNS14000003',:]\n",
    "ltunemp = unemployment.loc[unemployment['Series'] == 'LNS13025703',:]\n"
   ]
  },
  {
   "cell_type": "code",
   "execution_count": null,
   "metadata": {
    "scrolled": false
   },
   "outputs": [],
   "source": [
    "#line graph of x and y axis\n",
    "plt.figure(figsize=(10,4))\n",
    "\n",
    "#setting x axis \n",
    "years = ltunemp['Mth/Year']\n",
    "\n",
    "#setting y axis \n",
    "total, = plt.plot(years, ltunemp['Unemployment Rate'], color='red', label = 'Long-Term Unemployment',linewidth =1, linestyle = '--') \n",
    "unemp, = plt.plot(years, unerate['Unemployment Rate'], color='black', label = 'Seasonal Total Unemployment',linewidth =1) \n",
    "afam, = plt.plot(years, uneafam['Unemployment Rate'], color= 'orange', label = \"Seasonal Unemployment=African American\", linewidth=1) \n",
    "hisp, = plt.plot(years, unehisp['Unemployment Rate'], color= 'green', label = \"Seasonal Unemployment=Hispanic/Latino\", linewidth=1) \n",
    "asian, = plt.plot(years, uneasian['Unemployment Rate'], color= 'indigo', label = \"Seasonal Unemployment=Asian\", linewidth=1) \n",
    "white, = plt.plot(years, unewhite['Unemployment Rate'], color= 'blue', label = \"Seasonal Unemployment=Caucasian\", linewidth=1)\n",
    "\n",
    "#setting properties \n",
    "plt.yticks(np.arange(round(unemployment['Unemployment Rate'].min()), \n",
    "                     round(unemployment['Unemployment Rate'].max()) +1, 2.0))  \n",
    "plt.xticks(rotation=45)\n",
    "plt.title(\"US Unemployment Rate - Long Term and by Ethnic Group\")  \n",
    "\n",
    "#set legend outside of box \n",
    "plt.legend(bbox_to_anchor=(1.05, 1),handles=[total, unemp, afam, hisp, asian, white])\n",
    " \n",
    "plt.tight_layout() \n",
    "plt.show()"
   ]
  },
  {
   "cell_type": "code",
   "execution_count": null,
   "metadata": {},
   "outputs": [],
   "source": [
    "# Calculate the IQR and quantitatively determine if there are any potential outliers. \n",
    "# Determine outliers using upper and lower bounds\n",
    "\n",
    "#LT unemployment\n",
    "ltrate = pd.Series(ltunemp['Unemployment Rate'])\n",
    "\n",
    "#IQR\n",
    "ltquartiles = ltrate.quantile([0.25,0.5,0.75])\n",
    "ltlowerq = ltquartiles[0.25]\n",
    "ltupperq = ltquartiles[0.75]\n",
    "ltiqr = ltupperq - ltlowerq\n",
    "ltlower_bound = ltlowerq - (1.5 * ltiqr)\n",
    "ltupper_bound = ltupperq + (1.5 * ltiqr)\n",
    "\n",
    "#outliers\n",
    "ltoutliers = [rate for rate in ltrate if rate < ltlower_bound or rate > ltupper_bound]\n",
    "\n",
    "len(ltoutliers)\n",
    "ltoutliers_distinct = list(set(ltoutliers))\n",
    "len(ltoutliers_distinct)\n",
    "ltoutliers_distinct.sort()\n",
    "ltoutliers_distinct  \n",
    "\n",
    "ltoutliers_distinct"
   ]
  },
  {
   "cell_type": "code",
   "execution_count": null,
   "metadata": {},
   "outputs": [],
   "source": [
    "# Calculate the IQR and quantitatively determine if there are any potential outliers. \n",
    "# Determine outliers using upper and lower bounds\n",
    "\n",
    "#LT unemployment\n",
    "unrate = pd.Series(unerate['Unemployment Rate'])\n",
    "\n",
    "#IQR\n",
    "unquartiles = unrate.quantile([0.25,0.5,0.75])\n",
    "unlowerq = unquartiles[0.25]\n",
    "unupperq = unquartiles[0.75]\n",
    "uniqr = unupperq - unlowerq\n",
    "unlower_bound = unlowerq - (1.5 * uniqr)\n",
    "unupper_bound = unupperq + (1.5 * uniqr)\n",
    "\n",
    "#outliers\n",
    "unoutliers = [rate for rate in unrate if rate < unlower_bound or rate > unupper_bound]\n",
    "\n",
    "len(unoutliers)\n",
    "unoutliers_distinct = list(set(unoutliers))\n",
    "len(unoutliers_distinct)\n",
    "unoutliers_distinct.sort()\n",
    "unoutliers_distinct  \n",
    "\n",
    "unoutliers_distinct"
   ]
  },
  {
   "cell_type": "code",
   "execution_count": null,
   "metadata": {},
   "outputs": [],
   "source": [
    "# Calculate the IQR and quantitatively determine if there are any potential outliers. \n",
    "# Determine outliers using upper and lower bounds\n",
    "\n",
    "#LT unemployment\n",
    "afrate = pd.Series(uneafam['Unemployment Rate'])\n",
    "\n",
    "#IQR\n",
    "afquartiles = afrate.quantile([0.25,0.5,0.75])\n",
    "aflowerq = afquartiles[0.25]\n",
    "afupperq = afquartiles[0.75]\n",
    "afiqr = afupperq - aflowerq\n",
    "aflower_bound = aflowerq - (1.5 * afiqr)\n",
    "afupper_bound = afupperq + (1.5 * afiqr)\n",
    "\n",
    "#outliers\n",
    "afoutliers = [rate for rate in afrate if rate < aflower_bound or rate > afupper_bound]\n",
    "\n",
    "len(afoutliers)\n",
    "afoutliers_distinct = list(set(afoutliers))\n",
    "len(afoutliers_distinct)\n",
    "afoutliers_distinct.sort()\n",
    "afoutliers_distinct  \n",
    "\n",
    "afoutliers_distinct"
   ]
  },
  {
   "cell_type": "code",
   "execution_count": null,
   "metadata": {},
   "outputs": [],
   "source": [
    "# Calculate the IQR and quantitatively determine if there are any potential outliers. \n",
    "# Determine outliers using upper and lower bounds\n",
    "\n",
    "#LT unemployment\n",
    "hprate = pd.Series(unehisp['Unemployment Rate'])\n",
    "\n",
    "#IQR\n",
    "hpquartiles = hprate.quantile([0.25,0.5,0.75])\n",
    "hplowerq = hpquartiles[0.25]\n",
    "hpupperq = hpquartiles[0.75]\n",
    "hpiqr = hpupperq - hplowerq\n",
    "hplower_bound = hplowerq - (1.5 * hpiqr)\n",
    "hpupper_bound = hpupperq + (1.5 * hpiqr)\n",
    "\n",
    "#outliers\n",
    "hpoutliers = [rate for rate in hprate if rate < hplower_bound or rate > hpupper_bound]\n",
    "\n",
    "len(hpoutliers)\n",
    "hpoutliers_distinct = list(set(hpoutliers))\n",
    "len(hpoutliers_distinct)\n",
    "hpoutliers_distinct.sort()\n",
    "hpoutliers_distinct  \n",
    "\n",
    "hpoutliers_distinct"
   ]
  },
  {
   "cell_type": "code",
   "execution_count": null,
   "metadata": {},
   "outputs": [],
   "source": [
    "# Calculate the IQR and quantitatively determine if there are any potential outliers. \n",
    "# Determine outliers using upper and lower bounds\n",
    "\n",
    "#LT unemployment\n",
    "asrate = pd.Series(uneasian['Unemployment Rate'])\n",
    "\n",
    "#IQR\n",
    "asquartiles = asrate.quantile([0.25,0.5,0.75])\n",
    "aslowerq = asquartiles[0.25]\n",
    "asupperq = asquartiles[0.75]\n",
    "asiqr = asupperq - aslowerq\n",
    "aslower_bound = aslowerq - (1.5 * asiqr)\n",
    "asupper_bound = asupperq + (1.5 * asiqr)\n",
    "\n",
    "#outliers\n",
    "asoutliers = [rate for rate in asrate if rate < aslower_bound or rate > asupper_bound]\n",
    "\n",
    "len(asoutliers)\n",
    "asoutliers_distinct = list(set(asoutliers))\n",
    "len(asoutliers_distinct)\n",
    "asoutliers_distinct.sort()\n",
    "asoutliers_distinct  \n",
    "\n",
    "asoutliers_distinct"
   ]
  },
  {
   "cell_type": "code",
   "execution_count": null,
   "metadata": {},
   "outputs": [],
   "source": [
    "# Calculate the IQR and quantitatively determine if there are any potential outliers. \n",
    "# Determine outliers using upper and lower bounds\n",
    "\n",
    "#LT unemployment\n",
    "wtrate = pd.Series(unewhite['Unemployment Rate'])\n",
    "\n",
    "#IQR\n",
    "wtquartiles = wtrate.quantile([0.25,0.5,0.75])\n",
    "wtlowerq = wtquartiles[0.25]\n",
    "wtupperq = wtquartiles[0.75]\n",
    "wtiqr = wtupperq - wtlowerq\n",
    "wtlower_bound = wtlowerq - (1.5 * wtiqr)\n",
    "wtupper_bound = wtupperq + (1.5 * wtiqr)\n",
    "\n",
    "#outliers\n",
    "wtoutliers = [rate for rate in wtrate if rate < wtlower_bound or rate > wtupper_bound]\n",
    "\n",
    "len(wtoutliers)\n",
    "wtoutliers_distinct = list(set(wtoutliers))\n",
    "len(wtoutliers_distinct)\n",
    "wtoutliers_distinct.sort()\n",
    "wtoutliers_distinct  \n",
    "\n",
    "wtoutliers_distinct"
   ]
  },
  {
   "cell_type": "code",
   "execution_count": null,
   "metadata": {},
   "outputs": [],
   "source": [
    "# Generate a box plot of the final tumor volume of each mouse across four regimens of interest\n",
    "fig1, ax1 = plt.subplots()\n",
    "ax1.set_title('Unemployment Rate - Long Term vs Ethnic Groups')\n",
    "ax1.set_ylabel('Unemployment Rate')\n",
    "ax1.boxplot([ltrate,unrate, afrate, hprate, asrate, wtrate], showfliers=True)\n",
    "plt.xticks([1,2,3,4,5,6],['Long Term', 'Seas Total',\"Afr/Amer\", 'Hispanic','Asian','Caucasian'])\n",
    "plt.show()"
   ]
  },
  {
   "cell_type": "code",
   "execution_count": null,
   "metadata": {},
   "outputs": [],
   "source": [
    "#retrieve US Covid cases file\n",
    "#load file\n",
    "#file source: https://ourworldindata.org/coronavirus/country/united-states?country=~USA\n",
    "covid_path = \"D:\\\\GroupProject1\\\\Statistics\\\\daily-covid-cases-7-day.csv\"\n",
    "\n",
    "#Read the data and remove commas from numbers\n",
    "covid = pd.read_csv(covid_path,  encoding = 'iso-8859-1', low_memory=False)\n",
    "\n",
    "covid = covid.loc[(covid['Entity'] == 'United States')]\n",
    "covid.tail()\n"
   ]
  },
  {
   "cell_type": "code",
   "execution_count": null,
   "metadata": {},
   "outputs": [],
   "source": [
    "#=pd.to_datetime(covid['Date'].astype(str), format='%B%Y')\n",
    "covid['Date'] = pd.to_datetime(covid['Date'].astype(str),format='%m/%d/%Y')\n",
    "covid['Year'] = covid['Date'].dt.year\n",
    "covid['Month'] = covid['Date'].dt.month\n",
    "covid.head()"
   ]
  },
  {
   "cell_type": "code",
   "execution_count": null,
   "metadata": {},
   "outputs": [],
   "source": []
  },
  {
   "cell_type": "code",
   "execution_count": null,
   "metadata": {},
   "outputs": [],
   "source": [
    "#covid_df = covid.groupby(['Month'])\n",
    "mthly_case = []\n",
    "for case in covid['Month']:\n",
    "    if case == 1:\n",
    "        mthly_case.append(covid.iloc[case:3])\n",
    "mthly_case"
   ]
  },
  {
   "cell_type": "code",
   "execution_count": null,
   "metadata": {},
   "outputs": [],
   "source": []
  }
 ],
 "metadata": {
  "kernelspec": {
   "display_name": "Python 3",
   "language": "python",
   "name": "python3"
  },
  "language_info": {
   "codemirror_mode": {
    "name": "ipython",
    "version": 3
   },
   "file_extension": ".py",
   "mimetype": "text/x-python",
   "name": "python",
   "nbconvert_exporter": "python",
   "pygments_lexer": "ipython3",
   "version": "3.8.3"
  }
 },
 "nbformat": 4,
 "nbformat_minor": 4
}
